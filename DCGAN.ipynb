{
  "nbformat": 4,
  "nbformat_minor": 0,
  "metadata": {
    "colab": {
      "name": "DCGAN.ipynb",
      "provenance": [],
      "collapsed_sections": [],
      "toc_visible": true,
      "include_colab_link": true
    },
    "kernelspec": {
      "name": "python3",
      "display_name": "Python 3"
    },
    "accelerator": "GPU"
  },
  "cells": [
    {
      "cell_type": "markdown",
      "metadata": {
        "id": "view-in-github",
        "colab_type": "text"
      },
      "source": [
        "<a href=\"https://colab.research.google.com/github/QUST-Network/DCGAN/blob/master/DCGAN.ipynb\" target=\"_parent\"><img src=\"https://colab.research.google.com/assets/colab-badge.svg\" alt=\"Open In Colab\"/></a>"
      ]
    },
    {
      "cell_type": "markdown",
      "metadata": {
        "id": "iDl8kETo2DzY",
        "colab_type": "text"
      },
      "source": [
        "#DCGAN in Google colab"
      ]
    },
    {
      "cell_type": "markdown",
      "metadata": {
        "id": "bT-xsrslkdqG",
        "colab_type": "text"
      },
      "source": [
        "**Google就是我大哥，I love Google**"
      ]
    },
    {
      "cell_type": "markdown",
      "metadata": {
        "id": "AfZnAw6XhgJ3",
        "colab_type": "text"
      },
      "source": [
        "#运行准备区"
      ]
    },
    {
      "cell_type": "markdown",
      "metadata": {
        "id": "EE7MXoA3ScI6",
        "colab_type": "text"
      },
      "source": [
        "首先修改时区为东八区"
      ]
    },
    {
      "cell_type": "code",
      "metadata": {
        "id": "P8cyPaXN2Rr9",
        "colab_type": "code",
        "outputId": "fd62191b-b149-4ca9-c2fa-2a5c8b115438",
        "colab": {
          "base_uri": "https://localhost:8080/",
          "height": 53
        }
      },
      "source": [
        "!date -R\n",
        "import os\n",
        "os.environ['TZ'] = \"Asia/Shanghai\"\n",
        "!date -R"
      ],
      "execution_count": 0,
      "outputs": [
        {
          "output_type": "stream",
          "text": [
            "Fri, 27 Mar 2020 00:43:09 +0000\n",
            "Fri, 27 Mar 2020 08:43:14 +0800\n"
          ],
          "name": "stdout"
        }
      ]
    },
    {
      "cell_type": "markdown",
      "metadata": {
        "id": "F7VXQTaKeYSb",
        "colab_type": "text"
      },
      "source": [
        "监测CPU信息"
      ]
    },
    {
      "cell_type": "code",
      "metadata": {
        "id": "1vzT1stEenPJ",
        "colab_type": "code",
        "outputId": "956f47e7-3ddb-4ad4-c26a-56d892d1c5fa",
        "colab": {
          "base_uri": "https://localhost:8080/",
          "height": 53
        }
      },
      "source": [
        "!cat /proc/cpuinfo | grep \"cpu cores\" | uniq\n",
        "!cat /proc/cpuinfo |grep \"processor\"|wc -l"
      ],
      "execution_count": 0,
      "outputs": [
        {
          "output_type": "stream",
          "text": [
            "cpu cores\t: 1\n",
            "2\n"
          ],
          "name": "stdout"
        }
      ]
    },
    {
      "cell_type": "code",
      "metadata": {
        "id": "M3N_UubAfjp7",
        "colab_type": "code",
        "colab": {}
      },
      "source": [
        "!cat /proc/cpuinfo | grep model\\ name"
      ],
      "execution_count": 0,
      "outputs": []
    },
    {
      "cell_type": "markdown",
      "metadata": {
        "id": "NVf-nStgecDe",
        "colab_type": "text"
      },
      "source": [
        "监测RAM"
      ]
    },
    {
      "cell_type": "code",
      "metadata": {
        "id": "oK0Hks-sfk3v",
        "colab_type": "code",
        "outputId": "96839e54-23ec-42d4-d2b1-a91fc0486eed",
        "colab": {
          "base_uri": "https://localhost:8080/",
          "height": 35
        }
      },
      "source": [
        "!cat /proc/meminfo | grep MemTotal"
      ],
      "execution_count": 0,
      "outputs": [
        {
          "output_type": "stream",
          "text": [
            "MemTotal:       13335180 kB\n"
          ],
          "name": "stdout"
        }
      ]
    },
    {
      "cell_type": "markdown",
      "metadata": {
        "id": "Rb4rr4a0397L",
        "colab_type": "text"
      },
      "source": [
        "监测GPU信息"
      ]
    },
    {
      "cell_type": "code",
      "metadata": {
        "id": "WumYQn-IRhDX",
        "colab_type": "code",
        "outputId": "e9f325de-a227-42de-8214-755d0ff76d08",
        "colab": {
          "base_uri": "https://localhost:8080/",
          "height": 323
        }
      },
      "source": [
        "!/opt/bin/nvidia-smi"
      ],
      "execution_count": 0,
      "outputs": [
        {
          "output_type": "stream",
          "text": [
            "Fri Mar 27 10:28:59 2020       \n",
            "+-----------------------------------------------------------------------------+\n",
            "| NVIDIA-SMI 418.67       Driver Version: 418.67       CUDA Version: 10.1     |\n",
            "|-------------------------------+----------------------+----------------------+\n",
            "| GPU  Name        Persistence-M| Bus-Id        Disp.A | Volatile Uncorr. ECC |\n",
            "| Fan  Temp  Perf  Pwr:Usage/Cap|         Memory-Usage | GPU-Util  Compute M. |\n",
            "|===============================+======================+======================|\n",
            "|   0  Tesla T4            Off  | 00000000:00:04.0 Off |                    0 |\n",
            "| N/A   53C    P8    10W /  70W |      0MiB / 15079MiB |      0%      Default |\n",
            "+-------------------------------+----------------------+----------------------+\n",
            "                                                                               \n",
            "+-----------------------------------------------------------------------------+\n",
            "| Processes:                                                       GPU Memory |\n",
            "|  GPU       PID   Type   Process name                             Usage      |\n",
            "|=============================================================================|\n",
            "|  No running processes found                                                 |\n",
            "+-----------------------------------------------------------------------------+\n"
          ],
          "name": "stdout"
        }
      ]
    },
    {
      "cell_type": "code",
      "metadata": {
        "id": "iRreASOi4Cac",
        "colab_type": "code",
        "colab": {}
      },
      "source": [
        "import tensorflow as tf\n",
        "tf.test.gpu_device_name()\n",
        "from tensorflow.python.client import device_lib\n",
        "device_lib.list_local_devices()"
      ],
      "execution_count": 0,
      "outputs": []
    },
    {
      "cell_type": "markdown",
      "metadata": {
        "id": "lj0xw0jIgr-W",
        "colab_type": "text"
      },
      "source": [
        "查看硬盘大小"
      ]
    },
    {
      "cell_type": "code",
      "metadata": {
        "id": "Vsw-koeLgw_E",
        "colab_type": "code",
        "outputId": "915f892e-7474-4dba-c120-f6c1d77e3516",
        "colab": {
          "base_uri": "https://localhost:8080/",
          "height": 215
        }
      },
      "source": [
        "!df -lh"
      ],
      "execution_count": 0,
      "outputs": [
        {
          "output_type": "stream",
          "text": [
            "Filesystem      Size  Used Avail Use% Mounted on\n",
            "overlay          69G   36G   30G  55% /\n",
            "tmpfs            64M     0   64M   0% /dev\n",
            "tmpfs           6.4G     0  6.4G   0% /sys/fs/cgroup\n",
            "/dev/sda1        75G   38G   38G  50% /opt/bin\n",
            "tmpfs           6.4G   16K  6.4G   1% /var/colab\n",
            "shm             5.9G     0  5.9G   0% /dev/shm\n",
            "tmpfs           6.4G     0  6.4G   0% /proc/acpi\n",
            "tmpfs           6.4G     0  6.4G   0% /proc/scsi\n",
            "tmpfs           6.4G     0  6.4G   0% /sys/firmware\n",
            "drive            69G   41G   29G  59% /content/drive\n"
          ],
          "name": "stdout"
        }
      ]
    },
    {
      "cell_type": "markdown",
      "metadata": {
        "id": "hy1dezYH2h83",
        "colab_type": "text"
      },
      "source": [
        "外挂Google云盘"
      ]
    },
    {
      "cell_type": "code",
      "metadata": {
        "id": "CG-Ph0lE4ryo",
        "colab_type": "code",
        "outputId": "65671057-ac41-44c5-bd60-b584792f0df2",
        "colab": {
          "base_uri": "https://localhost:8080/",
          "height": 127
        }
      },
      "source": [
        "from google.colab import drive\n",
        "drive.mount('/content/drive/')"
      ],
      "execution_count": 0,
      "outputs": [
        {
          "output_type": "stream",
          "text": [
            "Go to this URL in a browser: https://accounts.google.com/o/oauth2/auth?client_id=947318989803-6bn6qk8qdgf4n4g3pfee6491hc0brc4i.apps.googleusercontent.com&redirect_uri=urn%3aietf%3awg%3aoauth%3a2.0%3aoob&response_type=code&scope=email%20https%3a%2f%2fwww.googleapis.com%2fauth%2fdocs.test%20https%3a%2f%2fwww.googleapis.com%2fauth%2fdrive%20https%3a%2f%2fwww.googleapis.com%2fauth%2fdrive.photos.readonly%20https%3a%2f%2fwww.googleapis.com%2fauth%2fpeopleapi.readonly\n",
            "\n",
            "Enter your authorization code:\n",
            "··········\n",
            "Mounted at /content/drive/\n"
          ],
          "name": "stdout"
        }
      ]
    },
    {
      "cell_type": "markdown",
      "metadata": {
        "id": "ghY-I7rN9UZF",
        "colab_type": "text"
      },
      "source": [
        "切换工作目录"
      ]
    },
    {
      "cell_type": "code",
      "metadata": {
        "id": "3p6ZCcPy6HJ4",
        "colab_type": "code",
        "colab": {}
      },
      "source": [
        "!ls \"/content/drive/My Drive/DCGAN/\""
      ],
      "execution_count": 0,
      "outputs": []
    },
    {
      "cell_type": "code",
      "metadata": {
        "id": "dM1q3FDK6vYk",
        "colab_type": "code",
        "outputId": "5fbaff6e-20ce-4823-e580-a67ee8d8c89e",
        "colab": {
          "base_uri": "https://localhost:8080/",
          "height": 71
        }
      },
      "source": [
        "!pwd\n",
        "import os\n",
        "os.chdir('/content/drive/My Drive/DCGAN/')\n",
        "!pwd\n",
        "!ls"
      ],
      "execution_count": 0,
      "outputs": [
        {
          "output_type": "stream",
          "text": [
            "/content\n",
            "/content/drive/My Drive/DCGAN\n",
            "data  main.py  main.py.gdoc  model.py  ops.py  out  __pycache__  utils.py\n"
          ],
          "name": "stdout"
        }
      ]
    },
    {
      "cell_type": "markdown",
      "metadata": {
        "id": "JvizhPiJhUxZ",
        "colab_type": "text"
      },
      "source": [
        "#DCGAN运行区域"
      ]
    },
    {
      "cell_type": "markdown",
      "metadata": {
        "id": "y2CyT0D7iBV1",
        "colab_type": "text"
      },
      "source": [
        "--epoch \"训练的迭代次数，默认25\"\n",
        "\n",
        "--learning_rate \"Learning rate of for adam [0.0002]\"\n",
        "\n",
        "--beta1 \"Momentum term of adam [0.5]\"\n",
        "\n",
        "--train_size \"The size of train images [np.inf]\"\n",
        "\n",
        "--batch_size \"The size of batch images [64]\"\n",
        "\n",
        "--input_height \"The size of image to use (will be center cropped). [108]\"\n",
        "\n",
        "--input_width \"The size of image to use (will be center cropped). If None, same value as input_height [None]\"\n",
        "\n",
        "--output_height \"The size of the output images to produce [64]\"\n",
        "\n",
        "--output_width \"The size of the output images to produce. If None, same value as output_height [None]\"\n",
        "\n",
        "--dataset \"The name of dataset [celebA, mnist, lsun]\"\n",
        "\n",
        "--input_fname_pattern \"Glob pattern of filename of input images [*]\"\n",
        "\n",
        "--data_dir \"path to datasets [e.g. $HOME/data]\"\n",
        "\n",
        "--out_dir \"Root directory for outputs [e.g. $HOME/out]\"\n",
        "\n",
        "--out_name \"Folder (under out_root_dir) for all outputs. Generated automatically if left blank []\"\n",
        "\n",
        "--checkpoint_dir \"Folder (under out_root_dir/out_name) to save checkpoints [checkpoint]\"\n",
        "\n",
        "--sample_dir \"Folder (under out_root_dir/out_name) to save samples [samples]\"\n",
        "\n",
        "--train \"True for training, False for testing [False]\"\n",
        "\n",
        "--crop\" \"True for training, False for testing [False]\"\n",
        "\n",
        "--visualize \"True for visualizing, False for nothing [False]\"\n",
        "\n",
        "--export \"True for exporting with new batch size\"\n",
        "\n",
        "--freeze \"True for exporting with new batch size\"\n",
        "\n",
        "--max_to_keep \"maximum number of checkpoints to keep\"\n",
        "\n",
        "--sample_freq \"sample every this many iterations\"\n",
        "\n",
        "--ckpt_freq \"save checkpoint every this many iterations\"\n",
        "\n",
        "--z_dim \"dimensions of z\"\n",
        "\n",
        "--z_dist\" \"'normal01' or 'uniform_unsigned' or uniform_signed\"\n",
        "\n",
        "--G_img_sum \"Save generator image summaries in log\""
      ]
    },
    {
      "cell_type": "markdown",
      "metadata": {
        "id": "8ViTpUZ4guO9",
        "colab_type": "text"
      },
      "source": [
        "#动漫数据集"
      ]
    },
    {
      "cell_type": "markdown",
      "metadata": {
        "id": "KaMaLezG9ZQM",
        "colab_type": "text"
      },
      "source": [
        "运行DCGAN神经网络"
      ]
    },
    {
      "cell_type": "code",
      "metadata": {
        "id": "eZeZy1BS7Phh",
        "colab_type": "code",
        "colab": {}
      },
      "source": [
        "!python main.py --input_height 960 --input_width 960 --output_height 480 --output_width 480 --dataset Data --crop --train --batch_size 1 --visualize=True --epoch 5 --sample_freq 100 --input_fname_pattern \"*.jpg\" --out_name=\"20200316.093410 - data - Data - x960.z100.uniform_signed.y480.b1\" --G_img_sum=True"
      ],
      "execution_count": 0,
      "outputs": []
    },
    {
      "cell_type": "markdown",
      "metadata": {
        "id": "I6_F3TwtoGWE",
        "colab_type": "text"
      },
      "source": [
        "测试已存在的模型(注意Epoch的次数)"
      ]
    },
    {
      "cell_type": "code",
      "metadata": {
        "id": "avsG_0aroRWu",
        "colab_type": "code",
        "colab": {}
      },
      "source": [
        "!python main.py --input_height 960 --input_width 960 --output_height 480 --output_width 480 --dataset Data --crop --batch_size 1 visualize=True --epoch 20 --sample_freq 100 --input_fname_pattern \"*.jpg\" --out_name=\"20200316.093410 - data - Data - x960.z100.uniform_signed.y480.b1\" --G_img_sum=True"
      ],
      "execution_count": 0,
      "outputs": []
    },
    {
      "cell_type": "markdown",
      "metadata": {
        "colab_type": "text",
        "id": "aR_btJrKGdw7"
      },
      "source": [
        "#Specifying the TensorFlow version\n",
        "\n",
        "Running `import tensorflow` will import the default version (currently 1.x). You can use 2.x by running a cell with the `tensorflow_version` magic **before** you run `import tensorflow`."
      ]
    },
    {
      "cell_type": "code",
      "metadata": {
        "colab_type": "code",
        "id": "NeWVBhf1VxlH",
        "outputId": "71110d1a-35e7-4471-ae2c-557564d7ce17",
        "colab": {
          "base_uri": "https://localhost:8080/",
          "height": 34
        }
      },
      "source": [
        "%tensorflow_version 2.x"
      ],
      "execution_count": 0,
      "outputs": [
        {
          "output_type": "stream",
          "text": [
            "TensorFlow 2.x selected.\n"
          ],
          "name": "stdout"
        }
      ]
    },
    {
      "cell_type": "markdown",
      "metadata": {
        "colab_type": "text",
        "id": "8dSlimhOVxlQ"
      },
      "source": [
        "Once you have specified a version via this magic, you can run `import tensorflow` as normal and verify which version was imported as follows:"
      ]
    },
    {
      "cell_type": "code",
      "metadata": {
        "colab_type": "code",
        "id": "-XbfkU7BeziQ",
        "outputId": "dd5fde23-75de-4e80-a51f-d7ce42ae31e7",
        "colab": {
          "base_uri": "https://localhost:8080/",
          "height": 34
        }
      },
      "source": [
        "import tensorflow\n",
        "print(tensorflow.__version__)"
      ],
      "execution_count": 0,
      "outputs": [
        {
          "output_type": "stream",
          "text": [
            "2.1.0\n"
          ],
          "name": "stdout"
        }
      ]
    },
    {
      "cell_type": "markdown",
      "metadata": {
        "colab_type": "text",
        "id": "uBIKyjpEVxlU"
      },
      "source": [
        "If you want to switch TensorFlow versions after import, you **will need to restart your runtime** with 'Runtime' -> 'Restart runtime...' and then specify the version before you import it again."
      ]
    },
    {
      "cell_type": "code",
      "metadata": {
        "colab_type": "code",
        "id": "kzTSf5QCfXhI",
        "outputId": "ae50b323-7612-4144-e8f3-2da1136fb6d3",
        "colab": {
          "base_uri": "https://localhost:8080/",
          "height": 34
        }
      },
      "source": [
        "# Restart runtime using 'Runtime' -> 'Restart runtime...'\n",
        "%tensorflow_version 1.x\n",
        "import tensorflow as tf\n",
        "print(tf.__version__)"
      ],
      "execution_count": 0,
      "outputs": [
        {
          "output_type": "stream",
          "text": [
            "1.15.0\n"
          ],
          "name": "stdout"
        }
      ]
    },
    {
      "cell_type": "markdown",
      "metadata": {
        "id": "yFf8Mku9cXM8",
        "colab_type": "text"
      },
      "source": [
        "#其他数据集\n",
        "输入256*256\n",
        "\n",
        "输出 256*256\n",
        "\n",
        "Epoch:200-doing\n",
        "\n",
        "Epoch :300"
      ]
    },
    {
      "cell_type": "code",
      "metadata": {
        "id": "ee1bAEbucaB7",
        "colab_type": "code",
        "colab": {}
      },
      "source": [
        "!python main.py --input_height 256 --input_width 256 --output_height 256 --output_width 256 --dataset trump --crop --train --batch_size 64 visualize=True --epoch 200 --sample_freq 100 --input_fname_pattern \"*.jpg\" G_img_sum=True --out_name=\"20200327.084628 - data - trump - x256.z100.uniform_signed.y256.b64\""
      ],
      "execution_count": 0,
      "outputs": []
    },
    {
      "cell_type": "markdown",
      "metadata": {
        "id": "qcl1eF0NjqCj",
        "colab_type": "text"
      },
      "source": [
        "模型测试：\n"
      ]
    },
    {
      "cell_type": "code",
      "metadata": {
        "colab_type": "code",
        "id": "B6B7nyI8zmJE",
        "colab": {}
      },
      "source": [
        "!python main.py --input_height 256 --input_width 256 --output_height 256 --output_width 256 --dataset trump --crop --batch_size 64 visualize=True --epoch 200 --sample_freq 10 --input_fname_pattern \"*.jpg\" G_img_sum=True --out_name=\"20200327.084628 - data - trump - x256.z100.uniform_signed.y256.b64\""
      ],
      "execution_count": 0,
      "outputs": []
    }
  ]
}